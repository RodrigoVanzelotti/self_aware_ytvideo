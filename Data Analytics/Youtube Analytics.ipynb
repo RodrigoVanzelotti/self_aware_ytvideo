{
 "cells": [
  {
   "cell_type": "markdown",
   "id": "8ce3d2c8-f653-4256-bf69-cd98eea63004",
   "metadata": {},
   "source": [
    "# Youtube Analytics API"
   ]
  },
  {
   "cell_type": "code",
   "execution_count": 17,
   "id": "6d2b6816-dec4-419b-9676-67827df5ec0f",
   "metadata": {
    "tags": []
   },
   "outputs": [],
   "source": [
    "import os\n",
    "from venv import create\n",
    "from googleapiclient.discovery import build\n",
    "from google_auth_oauthlib.flow import InstalledAppFlow\n",
    "\n",
    "import pandas as pd"
   ]
  },
  {
   "cell_type": "code",
   "execution_count": 16,
   "id": "ba77b991-0654-4ddc-b721-412b5ca874e5",
   "metadata": {},
   "outputs": [],
   "source": [
    "os.environ[\"OAUTHLIB_INSECURE_TRANSPORT\"] = \"1\"\n",
    "SCOPES = ['https://www.googleapis.com/auth/yt-analytics.readonly']\n",
    "\n",
    "API_SERVICE_NAME = 'youtubeAnalytics'\n",
    "API_VERSION = 'v2'\n",
    "CLIENT_SECRETS_FILE = 'client_secret_898467674662-a1b5vidubbadgt1om1cic23mho33ngok.apps.googleusercontent.com.json'\n",
    "\n",
    "\n",
    "def get_service():\n",
    "  flow = InstalledAppFlow.from_client_secrets_file(CLIENT_SECRETS_FILE, SCOPES)\n",
    "  credentials = flow.run_local_server()\n",
    "  return build(API_SERVICE_NAME, API_VERSION, credentials = credentials)\n",
    "\n",
    "def execute_api_request(client_library_function, **kwargs):\n",
    "  response = client_library_function(\n",
    "    **kwargs\n",
    "  ).execute()\n",
    "  return response"
   ]
  },
  {
   "cell_type": "code",
   "execution_count": 11,
   "id": "b5a563e4-5a6a-43ad-bdf8-e089e58b4665",
   "metadata": {
    "tags": []
   },
   "outputs": [
    {
     "ename": "NameError",
     "evalue": "name 'youtubeAnalytics' is not defined",
     "output_type": "error",
     "traceback": [
      "\u001b[0;31m---------------------------------------------------------------------------\u001b[0m",
      "\u001b[0;31mNameError\u001b[0m                                 Traceback (most recent call last)",
      "Cell \u001b[0;32mIn[11], line 2\u001b[0m\n\u001b[1;32m      1\u001b[0m result \u001b[38;5;241m=\u001b[39m execute_api_request(\n\u001b[0;32m----> 2\u001b[0m         \u001b[43myoutubeAnalytics\u001b[49m\u001b[38;5;241m.\u001b[39mreports()\u001b[38;5;241m.\u001b[39mquery,\n\u001b[1;32m      3\u001b[0m         ids\u001b[38;5;241m=\u001b[39m\u001b[38;5;124m'\u001b[39m\u001b[38;5;124mchannel==MINE\u001b[39m\u001b[38;5;124m'\u001b[39m,\n\u001b[1;32m      4\u001b[0m         startDate\u001b[38;5;241m=\u001b[39m\u001b[38;5;124m'\u001b[39m\u001b[38;5;124m2022-01-01\u001b[39m\u001b[38;5;124m'\u001b[39m,\n\u001b[1;32m      5\u001b[0m         endDate\u001b[38;5;241m=\u001b[39m\u001b[38;5;124m'\u001b[39m\u001b[38;5;124m2023-04-30\u001b[39m\u001b[38;5;124m'\u001b[39m,\n\u001b[1;32m      6\u001b[0m         dimensions\u001b[38;5;241m=\u001b[39m\u001b[38;5;124m'\u001b[39m\u001b[38;5;124mvideo\u001b[39m\u001b[38;5;124m'\u001b[39m,\n\u001b[1;32m      7\u001b[0m         metrics\u001b[38;5;241m=\u001b[39m\u001b[38;5;124m'\u001b[39m\u001b[38;5;124mestimatedMinutesWatched,views,likes,subscribersGained\u001b[39m\u001b[38;5;124m'\u001b[39m,\n\u001b[1;32m      8\u001b[0m         maxResults\u001b[38;5;241m=\u001b[39m\u001b[38;5;241m200\u001b[39m,\n\u001b[1;32m      9\u001b[0m         sort\u001b[38;5;241m=\u001b[39m\u001b[38;5;124m'\u001b[39m\u001b[38;5;124m-estimatedMinutesWatched\u001b[39m\u001b[38;5;124m'\u001b[39m\n\u001b[1;32m     10\u001b[0m     )\n",
      "\u001b[0;31mNameError\u001b[0m: name 'youtubeAnalytics' is not defined"
     ]
    }
   ],
   "source": [
    "result = execute_api_request(\n",
    "        youtubeAnalytics.reports().query,\n",
    "        ids='channel==MINE',\n",
    "        startDate='2022-01-01',\n",
    "        endDate='2023-04-30',\n",
    "        dimensions='video',\n",
    "        metrics='estimatedMinutesWatched,views,likes,subscribersGained',\n",
    "        maxResults=200,\n",
    "        sort='-estimatedMinutesWatched'\n",
    "    )"
   ]
  },
  {
   "cell_type": "markdown",
   "id": "2d3bb475-562b-411c-b515-0a4b9850346c",
   "metadata": {},
   "source": [
    "# Youtube Data API"
   ]
  },
  {
   "cell_type": "markdown",
   "id": "f5bd9932-47da-4fd1-ae81-97cf809bad9b",
   "metadata": {},
   "source": [
    "## Base functions"
   ]
  },
  {
   "cell_type": "markdown",
   "id": "f952d412-13d5-4df5-910c-be7cc9abaddd",
   "metadata": {},
   "source": [
    "### Quotas\n",
    "\n",
    "- search_results: 100 por palavra chave\n",
    "- channels: 1\n",
    "- "
   ]
  },
  {
   "cell_type": "markdown",
   "id": "6b455485-a58b-4d9d-8748-c44c72498638",
   "metadata": {},
   "source": [
    "### Search e channel stats\n"
   ]
  },
  {
   "cell_type": "code",
   "execution_count": 1,
   "id": "6fab4681-36d8-40bd-8191-14f983c99793",
   "metadata": {
    "tags": []
   },
   "outputs": [],
   "source": [
    "def search_result(query):\n",
    "    # Refer to the documentation: https://googleapis.github.io/google-api-python-client/docs/dyn/youtube_v3.search.html\n",
    "    request = youtube.search().list(part=\"snippet\", q=query, maxResults=50)\n",
    "        \n",
    "    return request.execute()"
   ]
  },
  {
   "cell_type": "code",
   "execution_count": 2,
   "id": "9cc293b8-6c1b-494f-91ba-8ca14cc1a783",
   "metadata": {
    "tags": []
   },
   "outputs": [],
   "source": [
    "def channel_stats(channelID, part=\"statistics\"):\n",
    "    # Refer to the documentation: https://googleapis.github.io/google-api-python-client/docs/dyn/youtube_v3.channels.html\n",
    "    \n",
    "    request = youtube.channels().list(part=part, id=channelID, maxResults=50)\n",
    "    return request.execute()"
   ]
  },
  {
   "cell_type": "markdown",
   "id": "3594b224-4198-4ddd-8baa-3a440fc4c5cd",
   "metadata": {},
   "source": [
    "### Get videos statistics"
   ]
  },
  {
   "cell_type": "code",
   "execution_count": 3,
   "id": "529f6c6f-1aa4-4757-944f-f34007747f30",
   "metadata": {
    "tags": []
   },
   "outputs": [],
   "source": [
    "def get_videos_data(videoID):\n",
    "    # Refer to the documentation: https://googleapis.github.io/google-api-python-client/docs/dyn/youtube_v3.search.html\n",
    "    videos = []\n",
    "    \n",
    "    request = youtube.videos().list(\n",
    "        part=\"contentDetails\", id=videoID, maxResults=50)\n",
    "\n",
    "    response = request.execute()\n",
    "    responseItems = response['items']\n",
    "    videos.extend(responseItems)\n",
    "\n",
    "    # if there is nextPageToken, then keep calling the API\n",
    "    while response.get('nextPageToken', None):\n",
    "        request = youtube.videos().list(\n",
    "        part=\"contentDetails\", id=videoID, \n",
    "            pageToken=response['nextPageToken'],\n",
    "            maxResults=50)\n",
    "        \n",
    "        response = request.execute()\n",
    "        responseItems = response['items']\n",
    "        videos.extend(responseItems)\n",
    "    \n",
    "    print(f\"Finished fetching videos for {channelId}. {len(videos)} videos found.\")\n",
    "\n",
    "    return videos"
   ]
  },
  {
   "cell_type": "markdown",
   "id": "3d735556-edc2-4b91-ab8e-ddc04f066641",
   "metadata": {
    "tags": []
   },
   "source": [
    "### Get all videos from channel"
   ]
  },
  {
   "cell_type": "code",
   "execution_count": 4,
   "id": "27bb73ea-0014-489e-bdbf-3e3339e681b4",
   "metadata": {
    "tags": []
   },
   "outputs": [],
   "source": [
    "def get_channel_videos(channelId):\n",
    "    # Refer to the documentation: https://googleapis.github.io/google-api-python-client/docs/dyn/youtube_v3.search.html\n",
    "    videos = []\n",
    "    upload_id = \"UU\" + channelId[2:]\n",
    "    \n",
    "    request = youtube.playlistItems().list(\n",
    "        part=\"snippet\", playlistId=upload_id, maxResults=50)\n",
    "\n",
    "    response = request.execute()\n",
    "    responseItems = response['items']\n",
    "    videos.extend(responseItems)\n",
    "\n",
    "    # if there is nextPageToken, then keep calling the API\n",
    "    while response.get('nextPageToken', None):\n",
    "        request = youtube.playlistItems().list(\n",
    "            part=\"snippet\", \n",
    "            playlistId=upload_id, \n",
    "            pageToken=response['nextPageToken'],\n",
    "            maxResults=50)\n",
    "        \n",
    "        response = request.execute()\n",
    "        responseItems = response['items']\n",
    "        videos.extend(responseItems)\n",
    "    \n",
    "    print(f\"Finished fetching videos for {channelId}. {len(videos)} videos found.\")\n",
    "\n",
    "    return videos"
   ]
  },
  {
   "cell_type": "markdown",
   "id": "7e09060b-12b6-44cb-9206-5e3cf32e8d10",
   "metadata": {},
   "source": [
    "### Comment threads"
   ]
  },
  {
   "cell_type": "code",
   "execution_count": 5,
   "id": "cb395a3c-cf34-44df-a04b-2ffa17f23ceb",
   "metadata": {
    "tags": []
   },
   "outputs": [],
   "source": [
    "def comment_threads(channelID, to_csv=False):\n",
    "    comments_list = []\n",
    "    \n",
    "    request = youtube.commentThreads().list(part='id,replies,snippet', videoId=channelID)\n",
    "    response = request.execute()\n",
    "    comments_list.extend(process_comments(response['items']))\n",
    "\n",
    "    # if there is nextPageToken, then keep calling the API\n",
    "    while response.get('nextPageToken', None):\n",
    "        request = youtube.commentThreads().list(\n",
    "            part='id,replies,snippet',\n",
    "            videoId=channelID,\n",
    "            pageToken=response['nextPageToken']\n",
    "        )\n",
    "        response = request.execute()\n",
    "        comments_list.extend(process_comments(response['items']))\n",
    "    comments_list = list(unique_everseen(comments_list))\n",
    "\n",
    "    print(f\"Finished fetching comments for {channelID}. {len(comments_list)} comments found.\")\n",
    "    \n",
    "    if to_csv:\n",
    "        make_csv(comments_list, channelID)\n",
    "    \n",
    "    return comments_list"
   ]
  },
  {
   "cell_type": "markdown",
   "id": "cc8f29c9-58bd-4154-9981-d2855887417e",
   "metadata": {
    "tags": []
   },
   "source": [
    "## Funções estratégicas"
   ]
  },
  {
   "cell_type": "code",
   "execution_count": 7,
   "id": "8ceb6eac-3daf-4efa-8278-cfb90f5008d1",
   "metadata": {
    "tags": []
   },
   "outputs": [],
   "source": [
    "# api_key = open(\"api_credentials\").read()\n",
    "api_key = open(\"api_credentials2\").read()"
   ]
  },
  {
   "cell_type": "code",
   "execution_count": 8,
   "id": "55c2f78d-f374-43d9-9ddd-1bbd0720c024",
   "metadata": {
    "tags": []
   },
   "outputs": [
    {
     "ename": "NameError",
     "evalue": "name 'build' is not defined",
     "output_type": "error",
     "traceback": [
      "\u001b[0;31m---------------------------------------------------------------------------\u001b[0m",
      "\u001b[0;31mNameError\u001b[0m                                 Traceback (most recent call last)",
      "Cell \u001b[0;32mIn[8], line 1\u001b[0m\n\u001b[0;32m----> 1\u001b[0m youtube \u001b[38;5;241m=\u001b[39m \u001b[43mbuild\u001b[49m(\u001b[38;5;124m\"\u001b[39m\u001b[38;5;124myoutube\u001b[39m\u001b[38;5;124m\"\u001b[39m, \u001b[38;5;124m\"\u001b[39m\u001b[38;5;124mv3\u001b[39m\u001b[38;5;124m\"\u001b[39m, developerKey\u001b[38;5;241m=\u001b[39mapi_key)\n\u001b[1;32m      3\u001b[0m pyscriptVidId \u001b[38;5;241m=\u001b[39m \u001b[38;5;124m'\u001b[39m\u001b[38;5;124mQo8dXyKXyME\u001b[39m\u001b[38;5;124m'\u001b[39m\n\u001b[1;32m      4\u001b[0m channelId \u001b[38;5;241m=\u001b[39m \u001b[38;5;124m'\u001b[39m\u001b[38;5;124mUCxXL5491Db9U8Rhfs-2LVFg\u001b[39m\u001b[38;5;124m'\u001b[39m\n",
      "\u001b[0;31mNameError\u001b[0m: name 'build' is not defined"
     ]
    }
   ],
   "source": [
    "youtube = build(\"youtube\", \"v3\", developerKey=api_key)\n",
    "\n",
    "pyscriptVidId = 'Qo8dXyKXyME'\n",
    "channelId = 'UCxXL5491Db9U8Rhfs-2LVFg'\n",
    "\n",
    "stats = channel_stats(channelId, \"statistics\")\n",
    "branding = channel_stats(channelId, \"brandingSettings\")"
   ]
  },
  {
   "cell_type": "markdown",
   "id": "9ace9692-6d0b-4dd8-87bb-044520aa0970",
   "metadata": {},
   "source": [
    "### Análise de concorrentes por keyword"
   ]
  },
  {
   "cell_type": "code",
   "execution_count": 12,
   "id": "cdab62a8-206e-4485-ae09-4fbfa7820276",
   "metadata": {
    "tags": []
   },
   "outputs": [],
   "source": [
    "def players_by_keyword(queries, location=\"\"):\n",
    "    resp = []\n",
    "    dict_players = []\n",
    "    \n",
    "    for query in queries:\n",
    "        response = search_result(query)\n",
    "        concorrentes = {i[\"snippet\"][\"channelId\"]: \n",
    "                        {\"canal\": i[\"snippet\"][\"channelTitle\"]} for i in response[\"items\"]}\n",
    "\n",
    "        stats = channel_stats(list(concorrentes.keys()), \"statistics\")\n",
    "        branding = channel_stats(list(concorrentes.keys()), \"brandingSettings\")\n",
    "\n",
    "        for stat in stats[\"items\"]:\n",
    "            id_ = stat[\"id\"]\n",
    "            concorrentes[id_][\"views\"] = int(stat[\"statistics\"][\"viewCount\"])\n",
    "            concorrentes[id_][\"subscribers\"] = int(stat[\"statistics\"][\"subscriberCount\"])\n",
    "            concorrentes[id_][\"videos\"] = int(stat[\"statistics\"][\"videoCount\"])\n",
    "\n",
    "        for brand in branding[\"items\"]:\n",
    "            id_ = brand[\"id\"]\n",
    "            brand_ = brand[\"brandingSettings\"][\"channel\"]\n",
    "            concorrentes[id_][\"description\"] = brand_[\"description\"] if \"description\" in brand_.keys() else \"\"\n",
    "            concorrentes[id_][\"country\"] = brand_[\"country\"] if \"country\" in brand_.keys() else \"\"\n",
    "\n",
    "        # Reorganiza em lista de dicionários\n",
    "        \n",
    "        for conc in concorrentes.keys():\n",
    "            dict_conc = {\"id\": conc} | concorrentes[conc]\n",
    "            dict_players += [dict_conc]\n",
    "    \n",
    "    df_players = pd.DataFrame(dict_players)\n",
    "    df_players.set_index(\"canal\", inplace=True)\n",
    "    df_players.sort_values(by=\"subscribers\", ascending=False, inplace=True) \n",
    "    \n",
    "    df_players[\"mean_views\"] = df_players[\"views\"] / df_players[\"videos\"] / 1000\n",
    "    df_players[\"subscribers\"] = df_players[\"subscribers\"] / 1000\n",
    "    df_players_loc = df_players[df_players[\"country\"] == location] if location != \"\" else df_players\n",
    "    return df_players_loc.drop_duplicates()"
   ]
  },
  {
   "cell_type": "code",
   "execution_count": 13,
   "id": "f31ac994-1fe6-4dec-8f02-9f9c47dd46f4",
   "metadata": {
    "scrolled": true,
    "tags": []
   },
   "outputs": [
    {
     "ename": "NameError",
     "evalue": "name 'youtube' is not defined",
     "output_type": "error",
     "traceback": [
      "\u001b[0;31m---------------------------------------------------------------------------\u001b[0m",
      "\u001b[0;31mNameError\u001b[0m                                 Traceback (most recent call last)",
      "Cell \u001b[0;32mIn[13], line 2\u001b[0m\n\u001b[1;32m      1\u001b[0m keywords \u001b[38;5;241m=\u001b[39m [\u001b[38;5;124m\"\u001b[39m\u001b[38;5;124mpython\u001b[39m\u001b[38;5;124m\"\u001b[39m]\n\u001b[0;32m----> 2\u001b[0m df_players \u001b[38;5;241m=\u001b[39m \u001b[43mplayers_by_keyword\u001b[49m\u001b[43m(\u001b[49m\u001b[43mkeywords\u001b[49m\u001b[43m,\u001b[49m\u001b[43m \u001b[49m\u001b[43mlocation\u001b[49m\u001b[38;5;241;43m=\u001b[39;49m\u001b[38;5;124;43m\"\u001b[39;49m\u001b[38;5;124;43mBR\u001b[39;49m\u001b[38;5;124;43m\"\u001b[39;49m\u001b[43m)\u001b[49m\n",
      "Cell \u001b[0;32mIn[12], line 6\u001b[0m, in \u001b[0;36mplayers_by_keyword\u001b[0;34m(queries, location)\u001b[0m\n\u001b[1;32m      3\u001b[0m dict_players \u001b[38;5;241m=\u001b[39m []\n\u001b[1;32m      5\u001b[0m \u001b[38;5;28;01mfor\u001b[39;00m query \u001b[38;5;129;01min\u001b[39;00m queries:\n\u001b[0;32m----> 6\u001b[0m     response \u001b[38;5;241m=\u001b[39m \u001b[43msearch_result\u001b[49m\u001b[43m(\u001b[49m\u001b[43mquery\u001b[49m\u001b[43m)\u001b[49m\n\u001b[1;32m      7\u001b[0m     concorrentes \u001b[38;5;241m=\u001b[39m {i[\u001b[38;5;124m\"\u001b[39m\u001b[38;5;124msnippet\u001b[39m\u001b[38;5;124m\"\u001b[39m][\u001b[38;5;124m\"\u001b[39m\u001b[38;5;124mchannelId\u001b[39m\u001b[38;5;124m\"\u001b[39m]: \n\u001b[1;32m      8\u001b[0m                     {\u001b[38;5;124m\"\u001b[39m\u001b[38;5;124mcanal\u001b[39m\u001b[38;5;124m\"\u001b[39m: i[\u001b[38;5;124m\"\u001b[39m\u001b[38;5;124msnippet\u001b[39m\u001b[38;5;124m\"\u001b[39m][\u001b[38;5;124m\"\u001b[39m\u001b[38;5;124mchannelTitle\u001b[39m\u001b[38;5;124m\"\u001b[39m]} \u001b[38;5;28;01mfor\u001b[39;00m i \u001b[38;5;129;01min\u001b[39;00m response[\u001b[38;5;124m\"\u001b[39m\u001b[38;5;124mitems\u001b[39m\u001b[38;5;124m\"\u001b[39m]}\n\u001b[1;32m     10\u001b[0m     stats \u001b[38;5;241m=\u001b[39m channel_stats(\u001b[38;5;28mlist\u001b[39m(concorrentes\u001b[38;5;241m.\u001b[39mkeys()), \u001b[38;5;124m\"\u001b[39m\u001b[38;5;124mstatistics\u001b[39m\u001b[38;5;124m\"\u001b[39m)\n",
      "Cell \u001b[0;32mIn[1], line 3\u001b[0m, in \u001b[0;36msearch_result\u001b[0;34m(query)\u001b[0m\n\u001b[1;32m      1\u001b[0m \u001b[38;5;28;01mdef\u001b[39;00m \u001b[38;5;21msearch_result\u001b[39m(query):\n\u001b[1;32m      2\u001b[0m     \u001b[38;5;66;03m# Refer to the documentation: https://googleapis.github.io/google-api-python-client/docs/dyn/youtube_v3.search.html\u001b[39;00m\n\u001b[0;32m----> 3\u001b[0m     request \u001b[38;5;241m=\u001b[39m \u001b[43myoutube\u001b[49m\u001b[38;5;241m.\u001b[39msearch()\u001b[38;5;241m.\u001b[39mlist(part\u001b[38;5;241m=\u001b[39m\u001b[38;5;124m\"\u001b[39m\u001b[38;5;124msnippet\u001b[39m\u001b[38;5;124m\"\u001b[39m, q\u001b[38;5;241m=\u001b[39mquery, maxResults\u001b[38;5;241m=\u001b[39m\u001b[38;5;241m50\u001b[39m)\n\u001b[1;32m      5\u001b[0m     \u001b[38;5;28;01mreturn\u001b[39;00m request\u001b[38;5;241m.\u001b[39mexecute()\n",
      "\u001b[0;31mNameError\u001b[0m: name 'youtube' is not defined"
     ]
    }
   ],
   "source": [
    "keywords = [\"python\"]\n",
    "df_players = players_by_keyword(keywords, location=\"BR\")"
   ]
  },
  {
   "cell_type": "code",
   "execution_count": null,
   "id": "fda8fd88-4de8-4566-8792-beb812359703",
   "metadata": {
    "scrolled": true,
    "tags": []
   },
   "outputs": [],
   "source": [
    "df_players"
   ]
  },
  {
   "cell_type": "code",
   "execution_count": null,
   "id": "bd08589d-d324-4fc5-833c-b50fd53b473f",
   "metadata": {
    "tags": []
   },
   "outputs": [],
   "source": [
    "keywords = [\"python\"]\n",
    "df_players = players_by_keyword(keywords, location=\"BR\")"
   ]
  },
  {
   "cell_type": "code",
   "execution_count": null,
   "id": "cf7a1f93-058b-44f8-956e-24fb86b90036",
   "metadata": {
    "tags": []
   },
   "outputs": [],
   "source": [
    "df_players"
   ]
  },
  {
   "cell_type": "markdown",
   "id": "a0eadf79-8e38-4cfc-af99-408a123f5297",
   "metadata": {},
   "source": [
    "### Análise de players por palavra chave pesquisada"
   ]
  },
  {
   "cell_type": "code",
   "execution_count": null,
   "id": "f1d78f30-f0ae-451c-9b3f-b61f459c23f4",
   "metadata": {
    "tags": []
   },
   "outputs": [],
   "source": [
    "response = search_result(\"python\")"
   ]
  },
  {
   "cell_type": "code",
   "execution_count": null,
   "id": "c6ee9f71-3d49-49f9-8058-39b8aeaa947e",
   "metadata": {
    "tags": []
   },
   "outputs": [],
   "source": [
    "df_resp = pd.DataFrame(response[\"items\"])\n",
    "df_resp[\"channel\"] = df_resp[\"snippet\"].apply(lambda x: x[\"channelTitle\"])\n",
    "df_resp[\"title\"] = df_resp[\"snippet\"].apply(lambda x: x[\"title\"])"
   ]
  },
  {
   "cell_type": "code",
   "execution_count": null,
   "id": "6974cf8d-692c-4b21-917b-af7c48b1de16",
   "metadata": {
    "scrolled": true,
    "tags": []
   },
   "outputs": [],
   "source": [
    "df_resp[[\"channel\", \"title\"]][\"channel\"].value_counts()"
   ]
  },
  {
   "cell_type": "markdown",
   "id": "f71beb70-2af1-42d5-8182-a9d0c3ef4ff2",
   "metadata": {},
   "source": [
    "### Dissecar vídeos de um canal"
   ]
  },
  {
   "cell_type": "code",
   "execution_count": null,
   "id": "e1230e80-b8dc-4361-816a-00e8b96a2eb5",
   "metadata": {
    "tags": []
   },
   "outputs": [],
   "source": [
    "channel_id = df_players.iloc[5].id"
   ]
  },
  {
   "cell_type": "code",
   "execution_count": null,
   "id": "6674d725-fc51-45f5-a138-e4845856a876",
   "metadata": {},
   "outputs": [],
   "source": [
    "channel_videos = get_channel_videos(channel_id)\n",
    "df_channel_videos = pd.DataFrame(channel_videos)"
   ]
  },
  {
   "cell_type": "code",
   "execution_count": null,
   "id": "726ca770-f61c-4e44-8b49-78efe54836a1",
   "metadata": {
    "tags": []
   },
   "outputs": [],
   "source": [
    "df_channel_videos[\"snippet\"].iloc[0][\"title\"]"
   ]
  },
  {
   "cell_type": "code",
   "execution_count": null,
   "id": "1d740df1-c8f7-4092-9711-d1230e612e7d",
   "metadata": {
    "tags": []
   },
   "outputs": [],
   "source": [
    "df_channel_videos[\"title\"] = df_channel_videos[\"snippet\"].apply(lambda x: x[\"title\"])\n",
    "# df_channel_videos[\"video_id\"]"
   ]
  },
  {
   "cell_type": "code",
   "execution_count": null,
   "id": "4dcbfe56-f5cc-4d49-a488-0b8ac9e64698",
   "metadata": {
    "tags": []
   },
   "outputs": [],
   "source": [
    "channel_videos"
   ]
  },
  {
   "cell_type": "code",
   "execution_count": null,
   "id": "aaf51168-1a56-4516-945a-d3129fdcef64",
   "metadata": {
    "tags": []
   },
   "outputs": [],
   "source": [
    "df_channel_videos"
   ]
  },
  {
   "cell_type": "code",
   "execution_count": null,
   "id": "af8685e9-9bec-4431-a11b-08c4a16f5424",
   "metadata": {},
   "outputs": [],
   "source": [
    "videos = get_videos_data("
   ]
  }
 ],
 "metadata": {
  "kernelspec": {
   "display_name": "Python 3 (ipykernel)",
   "language": "python",
   "name": "python3"
  },
  "language_info": {
   "codemirror_mode": {
    "name": "ipython",
    "version": 3
   },
   "file_extension": ".py",
   "mimetype": "text/x-python",
   "name": "python",
   "nbconvert_exporter": "python",
   "pygments_lexer": "ipython3",
   "version": "3.9.6"
  }
 },
 "nbformat": 4,
 "nbformat_minor": 5
}
