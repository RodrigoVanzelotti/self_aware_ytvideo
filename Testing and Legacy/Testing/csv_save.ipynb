{
 "cells": [
  {
   "cell_type": "code",
   "execution_count": 3,
   "metadata": {},
   "outputs": [],
   "source": [
    "import pandas as pd\n",
    "import timeit"
   ]
  },
  {
   "cell_type": "code",
   "execution_count": 8,
   "metadata": {},
   "outputs": [],
   "source": [
    "def json_to_csv(data):\n",
    "    # Open a file in write mode.\n",
    "    with open('teste_json_direto.csv', 'w') as f:\n",
    "        # Write all the dictionary keys in a file with commas separated.\n",
    "        f.write(','.join(data[0].keys()))\n",
    "        f.write('\\n') # Add a new line\n",
    "        for row in data:\n",
    "            # Write the values in a row.\n",
    "            f.write(','.join(str(x) for x in row.values()))\n",
    "            f.write('\\n') # Add a new line"
   ]
  },
  {
   "cell_type": "code",
   "execution_count": 9,
   "metadata": {},
   "outputs": [],
   "source": [
    "def json_pd_to_csv(data):\n",
    "    df = pd.read_json(data)\n",
    "    df.to_csv('teste_dataframe.csv')"
   ]
  },
  {
   "cell_type": "code",
   "execution_count": 10,
   "metadata": {},
   "outputs": [
    {
     "name": "stdout",
     "output_type": "stream",
     "text": [
      "Please visit this URL to authorize this application: https://accounts.google.com/o/oauth2/auth?response_type=code&client_id=564244369041-9k5heah4o92ea1g5brqm1de5sks3je92.apps.googleusercontent.com&redirect_uri=urn%3Aietf%3Awg%3Aoauth%3A2.0%3Aoob&scope=https%3A%2F%2Fwww.googleapis.com%2Fauth%2Fyt-analytics.readonly&state=aB9cjhuZOClOCXFk7tfTVKJu1C7eGz&prompt=consent&access_type=offline\n"
     ]
    },
    {
     "ename": "InvalidGrantError",
     "evalue": "(invalid_grant) Bad Request",
     "output_type": "error",
     "traceback": [
      "\u001b[1;31m---------------------------------------------------------------------------\u001b[0m",
      "\u001b[1;31mInvalidGrantError\u001b[0m                         Traceback (most recent call last)",
      "\u001b[1;32mc:\\Users\\rodri\\OneDrive\\Área de Trabalho\\Projetos\\Asimov\\Automações\\Self_Aware_Youtube\\Testing and Legacy\\Testing\\csv_save.ipynb Cell 4\u001b[0m in \u001b[0;36m<cell line: 29>\u001b[1;34m()\u001b[0m\n\u001b[0;32m     <a href='vscode-notebook-cell:/c%3A/Users/rodri/OneDrive/%C3%81rea%20de%20Trabalho/Projetos/Asimov/Automa%C3%A7%C3%B5es/Self_Aware_Youtube/Testing%20and%20Legacy/Testing/csv_save.ipynb#W1sZmlsZQ%3D%3D?line=28'>29</a>\u001b[0m \u001b[39mif\u001b[39;00m \u001b[39m__name__\u001b[39m \u001b[39m==\u001b[39m \u001b[39m'\u001b[39m\u001b[39m__main__\u001b[39m\u001b[39m'\u001b[39m:\n\u001b[0;32m     <a href='vscode-notebook-cell:/c%3A/Users/rodri/OneDrive/%C3%81rea%20de%20Trabalho/Projetos/Asimov/Automa%C3%A7%C3%B5es/Self_Aware_Youtube/Testing%20and%20Legacy/Testing/csv_save.ipynb#W1sZmlsZQ%3D%3D?line=29'>30</a>\u001b[0m   \u001b[39m# Disable OAuthlib's HTTPs verification when running locally.\u001b[39;00m\n\u001b[0;32m     <a href='vscode-notebook-cell:/c%3A/Users/rodri/OneDrive/%C3%81rea%20de%20Trabalho/Projetos/Asimov/Automa%C3%A7%C3%B5es/Self_Aware_Youtube/Testing%20and%20Legacy/Testing/csv_save.ipynb#W1sZmlsZQ%3D%3D?line=30'>31</a>\u001b[0m   \u001b[39m# *DO NOT* leave this option enabled when running in production.\u001b[39;00m\n\u001b[0;32m     <a href='vscode-notebook-cell:/c%3A/Users/rodri/OneDrive/%C3%81rea%20de%20Trabalho/Projetos/Asimov/Automa%C3%A7%C3%B5es/Self_Aware_Youtube/Testing%20and%20Legacy/Testing/csv_save.ipynb#W1sZmlsZQ%3D%3D?line=31'>32</a>\u001b[0m   os\u001b[39m.\u001b[39menviron[\u001b[39m'\u001b[39m\u001b[39mOAUTHLIB_INSECURE_TRANSPORT\u001b[39m\u001b[39m'\u001b[39m] \u001b[39m=\u001b[39m \u001b[39m'\u001b[39m\u001b[39m1\u001b[39m\u001b[39m'\u001b[39m\n\u001b[1;32m---> <a href='vscode-notebook-cell:/c%3A/Users/rodri/OneDrive/%C3%81rea%20de%20Trabalho/Projetos/Asimov/Automa%C3%A7%C3%B5es/Self_Aware_Youtube/Testing%20and%20Legacy/Testing/csv_save.ipynb#W1sZmlsZQ%3D%3D?line=33'>34</a>\u001b[0m   youtubeAnalytics \u001b[39m=\u001b[39m get_service()\n\u001b[0;32m     <a href='vscode-notebook-cell:/c%3A/Users/rodri/OneDrive/%C3%81rea%20de%20Trabalho/Projetos/Asimov/Automa%C3%A7%C3%B5es/Self_Aware_Youtube/Testing%20and%20Legacy/Testing/csv_save.ipynb#W1sZmlsZQ%3D%3D?line=34'>35</a>\u001b[0m   response_dict \u001b[39m=\u001b[39m execute_api_request(\n\u001b[0;32m     <a href='vscode-notebook-cell:/c%3A/Users/rodri/OneDrive/%C3%81rea%20de%20Trabalho/Projetos/Asimov/Automa%C3%A7%C3%B5es/Self_Aware_Youtube/Testing%20and%20Legacy/Testing/csv_save.ipynb#W1sZmlsZQ%3D%3D?line=35'>36</a>\u001b[0m       youtubeAnalytics\u001b[39m.\u001b[39mreports()\u001b[39m.\u001b[39mquery,\n\u001b[0;32m     <a href='vscode-notebook-cell:/c%3A/Users/rodri/OneDrive/%C3%81rea%20de%20Trabalho/Projetos/Asimov/Automa%C3%A7%C3%B5es/Self_Aware_Youtube/Testing%20and%20Legacy/Testing/csv_save.ipynb#W1sZmlsZQ%3D%3D?line=36'>37</a>\u001b[0m       ids\u001b[39m=\u001b[39m\u001b[39m'\u001b[39m\u001b[39mchannel==MINE\u001b[39m\u001b[39m'\u001b[39m,\n\u001b[1;32m   (...)\u001b[0m\n\u001b[0;32m     <a href='vscode-notebook-cell:/c%3A/Users/rodri/OneDrive/%C3%81rea%20de%20Trabalho/Projetos/Asimov/Automa%C3%A7%C3%B5es/Self_Aware_Youtube/Testing%20and%20Legacy/Testing/csv_save.ipynb#W1sZmlsZQ%3D%3D?line=41'>42</a>\u001b[0m       sort\u001b[39m=\u001b[39m\u001b[39m'\u001b[39m\u001b[39mday\u001b[39m\u001b[39m'\u001b[39m\n\u001b[0;32m     <a href='vscode-notebook-cell:/c%3A/Users/rodri/OneDrive/%C3%81rea%20de%20Trabalho/Projetos/Asimov/Automa%C3%A7%C3%B5es/Self_Aware_Youtube/Testing%20and%20Legacy/Testing/csv_save.ipynb#W1sZmlsZQ%3D%3D?line=42'>43</a>\u001b[0m   )\n\u001b[0;32m     <a href='vscode-notebook-cell:/c%3A/Users/rodri/OneDrive/%C3%81rea%20de%20Trabalho/Projetos/Asimov/Automa%C3%A7%C3%B5es/Self_Aware_Youtube/Testing%20and%20Legacy/Testing/csv_save.ipynb#W1sZmlsZQ%3D%3D?line=44'>45</a>\u001b[0m   start \u001b[39m=\u001b[39m timeit\u001b[39m.\u001b[39mdefault_timer()\n",
      "\u001b[1;32mc:\\Users\\rodri\\OneDrive\\Área de Trabalho\\Projetos\\Asimov\\Automações\\Self_Aware_Youtube\\Testing and Legacy\\Testing\\csv_save.ipynb Cell 4\u001b[0m in \u001b[0;36mget_service\u001b[1;34m()\u001b[0m\n\u001b[0;32m     <a href='vscode-notebook-cell:/c%3A/Users/rodri/OneDrive/%C3%81rea%20de%20Trabalho/Projetos/Asimov/Automa%C3%A7%C3%B5es/Self_Aware_Youtube/Testing%20and%20Legacy/Testing/csv_save.ipynb#W1sZmlsZQ%3D%3D?line=16'>17</a>\u001b[0m \u001b[39mdef\u001b[39;00m \u001b[39mget_service\u001b[39m():\n\u001b[0;32m     <a href='vscode-notebook-cell:/c%3A/Users/rodri/OneDrive/%C3%81rea%20de%20Trabalho/Projetos/Asimov/Automa%C3%A7%C3%B5es/Self_Aware_Youtube/Testing%20and%20Legacy/Testing/csv_save.ipynb#W1sZmlsZQ%3D%3D?line=17'>18</a>\u001b[0m   flow \u001b[39m=\u001b[39m InstalledAppFlow\u001b[39m.\u001b[39mfrom_client_secrets_file(CLIENT_SECRETS_FILE, SCOPES)\n\u001b[1;32m---> <a href='vscode-notebook-cell:/c%3A/Users/rodri/OneDrive/%C3%81rea%20de%20Trabalho/Projetos/Asimov/Automa%C3%A7%C3%B5es/Self_Aware_Youtube/Testing%20and%20Legacy/Testing/csv_save.ipynb#W1sZmlsZQ%3D%3D?line=18'>19</a>\u001b[0m   credentials \u001b[39m=\u001b[39m flow\u001b[39m.\u001b[39;49mrun_console()\n\u001b[0;32m     <a href='vscode-notebook-cell:/c%3A/Users/rodri/OneDrive/%C3%81rea%20de%20Trabalho/Projetos/Asimov/Automa%C3%A7%C3%B5es/Self_Aware_Youtube/Testing%20and%20Legacy/Testing/csv_save.ipynb#W1sZmlsZQ%3D%3D?line=19'>20</a>\u001b[0m   \u001b[39mreturn\u001b[39;00m build(API_SERVICE_NAME, API_VERSION, credentials \u001b[39m=\u001b[39m credentials)\n",
      "File \u001b[1;32mc:\\Users\\rodri\\AppData\\Local\\Programs\\Python\\Python310\\lib\\site-packages\\google_auth_oauthlib\\flow.py:404\u001b[0m, in \u001b[0;36mInstalledAppFlow.run_console\u001b[1;34m(self, authorization_prompt_message, authorization_code_message, **kwargs)\u001b[0m\n\u001b[0;32m    400\u001b[0m \u001b[39mprint\u001b[39m(authorization_prompt_message\u001b[39m.\u001b[39mformat(url\u001b[39m=\u001b[39mauth_url))\n\u001b[0;32m    402\u001b[0m code \u001b[39m=\u001b[39m \u001b[39minput\u001b[39m(authorization_code_message)\n\u001b[1;32m--> 404\u001b[0m \u001b[39mself\u001b[39;49m\u001b[39m.\u001b[39;49mfetch_token(code\u001b[39m=\u001b[39;49mcode)\n\u001b[0;32m    406\u001b[0m \u001b[39mreturn\u001b[39;00m \u001b[39mself\u001b[39m\u001b[39m.\u001b[39mcredentials\n",
      "File \u001b[1;32mc:\\Users\\rodri\\AppData\\Local\\Programs\\Python\\Python310\\lib\\site-packages\\google_auth_oauthlib\\flow.py:280\u001b[0m, in \u001b[0;36mFlow.fetch_token\u001b[1;34m(self, **kwargs)\u001b[0m\n\u001b[0;32m    278\u001b[0m kwargs\u001b[39m.\u001b[39msetdefault(\u001b[39m'\u001b[39m\u001b[39mclient_secret\u001b[39m\u001b[39m'\u001b[39m, \u001b[39mself\u001b[39m\u001b[39m.\u001b[39mclient_config[\u001b[39m'\u001b[39m\u001b[39mclient_secret\u001b[39m\u001b[39m'\u001b[39m])\n\u001b[0;32m    279\u001b[0m kwargs\u001b[39m.\u001b[39msetdefault(\u001b[39m'\u001b[39m\u001b[39mcode_verifier\u001b[39m\u001b[39m'\u001b[39m, \u001b[39mself\u001b[39m\u001b[39m.\u001b[39mcode_verifier)\n\u001b[1;32m--> 280\u001b[0m \u001b[39mreturn\u001b[39;00m \u001b[39mself\u001b[39m\u001b[39m.\u001b[39moauth2session\u001b[39m.\u001b[39mfetch_token(\n\u001b[0;32m    281\u001b[0m     \u001b[39mself\u001b[39m\u001b[39m.\u001b[39mclient_config[\u001b[39m'\u001b[39m\u001b[39mtoken_uri\u001b[39m\u001b[39m'\u001b[39m], \u001b[39m*\u001b[39m\u001b[39m*\u001b[39mkwargs)\n",
      "File \u001b[1;32mc:\\Users\\rodri\\AppData\\Local\\Programs\\Python\\Python310\\lib\\site-packages\\requests_oauthlib\\oauth2_session.py:366\u001b[0m, in \u001b[0;36mOAuth2Session.fetch_token\u001b[1;34m(self, token_url, code, authorization_response, body, auth, username, password, method, force_querystring, timeout, headers, verify, proxies, include_client_id, client_secret, cert, **kwargs)\u001b[0m\n\u001b[0;32m    363\u001b[0m     log\u001b[39m.\u001b[39mdebug(\u001b[39m\"\u001b[39m\u001b[39mInvoking hook \u001b[39m\u001b[39m%s\u001b[39;00m\u001b[39m.\u001b[39m\u001b[39m\"\u001b[39m, hook)\n\u001b[0;32m    364\u001b[0m     r \u001b[39m=\u001b[39m hook(r)\n\u001b[1;32m--> 366\u001b[0m \u001b[39mself\u001b[39;49m\u001b[39m.\u001b[39;49m_client\u001b[39m.\u001b[39;49mparse_request_body_response(r\u001b[39m.\u001b[39;49mtext, scope\u001b[39m=\u001b[39;49m\u001b[39mself\u001b[39;49m\u001b[39m.\u001b[39;49mscope)\n\u001b[0;32m    367\u001b[0m \u001b[39mself\u001b[39m\u001b[39m.\u001b[39mtoken \u001b[39m=\u001b[39m \u001b[39mself\u001b[39m\u001b[39m.\u001b[39m_client\u001b[39m.\u001b[39mtoken\n\u001b[0;32m    368\u001b[0m log\u001b[39m.\u001b[39mdebug(\u001b[39m\"\u001b[39m\u001b[39mObtained token \u001b[39m\u001b[39m%s\u001b[39;00m\u001b[39m.\u001b[39m\u001b[39m\"\u001b[39m, \u001b[39mself\u001b[39m\u001b[39m.\u001b[39mtoken)\n",
      "File \u001b[1;32mc:\\Users\\rodri\\AppData\\Local\\Programs\\Python\\Python310\\lib\\site-packages\\oauthlib\\oauth2\\rfc6749\\clients\\base.py:448\u001b[0m, in \u001b[0;36mClient.parse_request_body_response\u001b[1;34m(self, body, scope, **kwargs)\u001b[0m\n\u001b[0;32m    401\u001b[0m \u001b[39m\"\"\"Parse the JSON response body.\u001b[39;00m\n\u001b[0;32m    402\u001b[0m \n\u001b[0;32m    403\u001b[0m \u001b[39mIf the access token request is valid and authorized, the\u001b[39;00m\n\u001b[1;32m   (...)\u001b[0m\n\u001b[0;32m    445\u001b[0m \u001b[39m.. _`Section 7.1`: https://tools.ietf.org/html/rfc6749#section-7.1\u001b[39;00m\n\u001b[0;32m    446\u001b[0m \u001b[39m\"\"\"\u001b[39;00m\n\u001b[0;32m    447\u001b[0m scope \u001b[39m=\u001b[39m \u001b[39mself\u001b[39m\u001b[39m.\u001b[39mscope \u001b[39mif\u001b[39;00m scope \u001b[39mis\u001b[39;00m \u001b[39mNone\u001b[39;00m \u001b[39melse\u001b[39;00m scope\n\u001b[1;32m--> 448\u001b[0m \u001b[39mself\u001b[39m\u001b[39m.\u001b[39mtoken \u001b[39m=\u001b[39m parse_token_response(body, scope\u001b[39m=\u001b[39;49mscope)\n\u001b[0;32m    449\u001b[0m \u001b[39mself\u001b[39m\u001b[39m.\u001b[39mpopulate_token_attributes(\u001b[39mself\u001b[39m\u001b[39m.\u001b[39mtoken)\n\u001b[0;32m    450\u001b[0m \u001b[39mreturn\u001b[39;00m \u001b[39mself\u001b[39m\u001b[39m.\u001b[39mtoken\n",
      "File \u001b[1;32mc:\\Users\\rodri\\AppData\\Local\\Programs\\Python\\Python310\\lib\\site-packages\\oauthlib\\oauth2\\rfc6749\\parameters.py:441\u001b[0m, in \u001b[0;36mparse_token_response\u001b[1;34m(body, scope)\u001b[0m\n\u001b[0;32m    438\u001b[0m         params[\u001b[39m'\u001b[39m\u001b[39mexpires_at\u001b[39m\u001b[39m'\u001b[39m] \u001b[39m=\u001b[39m time\u001b[39m.\u001b[39mtime() \u001b[39m+\u001b[39m \u001b[39mint\u001b[39m(params[\u001b[39m'\u001b[39m\u001b[39mexpires_in\u001b[39m\u001b[39m'\u001b[39m])\n\u001b[0;32m    440\u001b[0m params \u001b[39m=\u001b[39m OAuth2Token(params, old_scope\u001b[39m=\u001b[39mscope)\n\u001b[1;32m--> 441\u001b[0m validate_token_parameters(params)\n\u001b[0;32m    442\u001b[0m \u001b[39mreturn\u001b[39;00m params\n",
      "File \u001b[1;32mc:\\Users\\rodri\\AppData\\Local\\Programs\\Python\\Python310\\lib\\site-packages\\oauthlib\\oauth2\\rfc6749\\parameters.py:448\u001b[0m, in \u001b[0;36mvalidate_token_parameters\u001b[1;34m(params)\u001b[0m\n\u001b[0;32m    446\u001b[0m \u001b[39m\"\"\"Ensures token presence, token type, expiration and scope in params.\"\"\"\u001b[39;00m\n\u001b[0;32m    447\u001b[0m \u001b[39mif\u001b[39;00m \u001b[39m'\u001b[39m\u001b[39merror\u001b[39m\u001b[39m'\u001b[39m \u001b[39min\u001b[39;00m params:\n\u001b[1;32m--> 448\u001b[0m     raise_from_error(params\u001b[39m.\u001b[39;49mget(\u001b[39m'\u001b[39;49m\u001b[39merror\u001b[39;49m\u001b[39m'\u001b[39;49m), params)\n\u001b[0;32m    450\u001b[0m \u001b[39mif\u001b[39;00m \u001b[39mnot\u001b[39;00m \u001b[39m'\u001b[39m\u001b[39maccess_token\u001b[39m\u001b[39m'\u001b[39m \u001b[39min\u001b[39;00m params:\n\u001b[0;32m    451\u001b[0m     \u001b[39mraise\u001b[39;00m MissingTokenError(description\u001b[39m=\u001b[39m\u001b[39m\"\u001b[39m\u001b[39mMissing access token parameter.\u001b[39m\u001b[39m\"\u001b[39m)\n",
      "File \u001b[1;32mc:\\Users\\rodri\\AppData\\Local\\Programs\\Python\\Python310\\lib\\site-packages\\oauthlib\\oauth2\\rfc6749\\errors.py:399\u001b[0m, in \u001b[0;36mraise_from_error\u001b[1;34m(error, params)\u001b[0m\n\u001b[0;32m    397\u001b[0m \u001b[39mfor\u001b[39;00m _, \u001b[39mcls\u001b[39m \u001b[39min\u001b[39;00m inspect\u001b[39m.\u001b[39mgetmembers(sys\u001b[39m.\u001b[39mmodules[\u001b[39m__name__\u001b[39m], inspect\u001b[39m.\u001b[39misclass):\n\u001b[0;32m    398\u001b[0m     \u001b[39mif\u001b[39;00m \u001b[39mcls\u001b[39m\u001b[39m.\u001b[39merror \u001b[39m==\u001b[39m error:\n\u001b[1;32m--> 399\u001b[0m         \u001b[39mraise\u001b[39;00m \u001b[39mcls\u001b[39m(\u001b[39m*\u001b[39m\u001b[39m*\u001b[39mkwargs)\n\u001b[0;32m    400\u001b[0m \u001b[39mraise\u001b[39;00m CustomOAuth2Error(error\u001b[39m=\u001b[39merror, \u001b[39m*\u001b[39m\u001b[39m*\u001b[39mkwargs)\n",
      "\u001b[1;31mInvalidGrantError\u001b[0m: (invalid_grant) Bad Request"
     ]
    }
   ],
   "source": [
    "import os\n",
    "import google.oauth2.credentials\n",
    "import google_auth_oauthlib.flow\n",
    "from googleapiclient.discovery import build\n",
    "from googleapiclient.errors import HttpError\n",
    "from google_auth_oauthlib.flow import InstalledAppFlow\n",
    "\n",
    "SETTINGS = {\n",
    "  \"save_to_csv\": True\n",
    "}\n",
    "\n",
    "SCOPES = ['https://www.googleapis.com/auth/yt-analytics.readonly']\n",
    "\n",
    "API_SERVICE_NAME = 'youtubeAnalytics'\n",
    "API_VERSION = 'v2'\n",
    "CLIENT_SECRETS_FILE = 'credentials.json'\n",
    "def get_service():\n",
    "  flow = InstalledAppFlow.from_client_secrets_file(CLIENT_SECRETS_FILE, SCOPES)\n",
    "  credentials = flow.run_console()\n",
    "  return build(API_SERVICE_NAME, API_VERSION, credentials = credentials)\n",
    "\n",
    "def execute_api_request(client_library_function, **kwargs):\n",
    "  response = client_library_function(\n",
    "    **kwargs\n",
    "  ).execute()\n",
    "\n",
    "  return response\n",
    "\n",
    "if __name__ == '__main__':\n",
    "  # Disable OAuthlib's HTTPs verification when running locally.\n",
    "  # *DO NOT* leave this option enabled when running in production.\n",
    "  os.environ['OAUTHLIB_INSECURE_TRANSPORT'] = '1'\n",
    "\n",
    "  youtubeAnalytics = get_service()\n",
    "  response_dict = execute_api_request(\n",
    "      youtubeAnalytics.reports().query,\n",
    "      ids='channel==MINE',\n",
    "      startDate='2023-05-01',\n",
    "      endDate='2023-05-19',\n",
    "      metrics='estimatedMinutesWatched,views,likes,subscribersGained',\n",
    "      dimensions='day',\n",
    "      sort='day'\n",
    "  )\n",
    "\n",
    "  start = timeit.default_timer()\n",
    "  json_to_csv(response_dict)\n",
    "  print(f'Diferença de tempo 1: {timeit.default_timer() - start}')\n",
    "\n",
    "  start = timeit.default_timer()\n",
    "  json_pd_to_csv(response_dict)\n",
    "  print(f'Diferença de tempo 2: {timeit.default_timer() - start}')\n",
    "\n",
    "  "
   ]
  },
  {
   "cell_type": "code",
   "execution_count": null,
   "metadata": {},
   "outputs": [],
   "source": []
  }
 ],
 "metadata": {
  "kernelspec": {
   "display_name": "Python 3",
   "language": "python",
   "name": "python3"
  },
  "language_info": {
   "codemirror_mode": {
    "name": "ipython",
    "version": 3
   },
   "file_extension": ".py",
   "mimetype": "text/x-python",
   "name": "python",
   "nbconvert_exporter": "python",
   "pygments_lexer": "ipython3",
   "version": "3.10.4"
  },
  "orig_nbformat": 4
 },
 "nbformat": 4,
 "nbformat_minor": 2
}
